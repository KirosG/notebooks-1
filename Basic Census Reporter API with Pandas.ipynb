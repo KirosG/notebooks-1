{
 "cells": [
  {
   "cell_type": "markdown",
   "metadata": {},
   "source": [
    "# Basic Census Reporter API with Pandas"
   ]
  },
  {
   "cell_type": "code",
   "execution_count": 1,
   "metadata": {
    "collapsed": true
   },
   "outputs": [],
   "source": [
    "from censusreporter_api import * # a few convenience methods elsewhere in this repo. Not a full pypi project at the moment"
   ]
  },
  {
   "cell_type": "markdown",
   "metadata": {},
   "source": [
    "# Top 5 States by Total Population"
   ]
  },
  {
   "cell_type": "code",
   "execution_count": 2,
   "metadata": {},
   "outputs": [
    {
     "data": {
      "text/html": [
       "<div>\n",
       "<table border=\"1\" class=\"dataframe\">\n",
       "  <thead>\n",
       "    <tr style=\"text-align: right;\">\n",
       "      <th></th>\n",
       "      <th>name</th>\n",
       "      <th>Total</th>\n",
       "      <th>Male</th>\n",
       "      <th>Female</th>\n",
       "    </tr>\n",
       "  </thead>\n",
       "  <tbody>\n",
       "    <tr>\n",
       "      <th>04000US06</th>\n",
       "      <td>California</td>\n",
       "      <td>39144818.0</td>\n",
       "      <td>19440558.0</td>\n",
       "      <td>19704260.0</td>\n",
       "    </tr>\n",
       "    <tr>\n",
       "      <th>04000US48</th>\n",
       "      <td>Texas</td>\n",
       "      <td>27469114.0</td>\n",
       "      <td>13625413.0</td>\n",
       "      <td>13843701.0</td>\n",
       "    </tr>\n",
       "    <tr>\n",
       "      <th>04000US12</th>\n",
       "      <td>Florida</td>\n",
       "      <td>20271272.0</td>\n",
       "      <td>9891238.0</td>\n",
       "      <td>10380034.0</td>\n",
       "    </tr>\n",
       "    <tr>\n",
       "      <th>04000US36</th>\n",
       "      <td>New York</td>\n",
       "      <td>19795791.0</td>\n",
       "      <td>9616592.0</td>\n",
       "      <td>10179199.0</td>\n",
       "    </tr>\n",
       "    <tr>\n",
       "      <th>04000US17</th>\n",
       "      <td>Illinois</td>\n",
       "      <td>12859995.0</td>\n",
       "      <td>6310435.0</td>\n",
       "      <td>6549560.0</td>\n",
       "    </tr>\n",
       "  </tbody>\n",
       "</table>\n",
       "</div>"
      ],
      "text/plain": [
       "                 name       Total        Male      Female\n",
       "04000US06  California  39144818.0  19440558.0  19704260.0\n",
       "04000US48       Texas  27469114.0  13625413.0  13843701.0\n",
       "04000US12     Florida  20271272.0   9891238.0  10380034.0\n",
       "04000US36    New York  19795791.0   9616592.0  10179199.0\n",
       "04000US17    Illinois  12859995.0   6310435.0   6549560.0"
      ]
     },
     "execution_count": 2,
     "metadata": {},
     "output_type": "execute_result"
    }
   ],
   "source": [
    "df = get_dataframe(tables='B01001',geoids='040|01000US',column_names=True,level=1)\n",
    "df.sort_values('Total', ascending=False).head(5)"
   ]
  },
  {
   "cell_type": "markdown",
   "metadata": {},
   "source": [
    "## Top 5 States in Midwest Region by % Female Population"
   ]
  },
  {
   "cell_type": "code",
   "execution_count": 3,
   "metadata": {},
   "outputs": [
    {
     "data": {
      "text/html": [
       "<div>\n",
       "<table border=\"1\" class=\"dataframe\">\n",
       "  <thead>\n",
       "    <tr style=\"text-align: right;\">\n",
       "      <th></th>\n",
       "      <th>name</th>\n",
       "      <th>Total</th>\n",
       "      <th>Male</th>\n",
       "      <th>Female</th>\n",
       "      <th>pct_female</th>\n",
       "    </tr>\n",
       "  </thead>\n",
       "  <tbody>\n",
       "    <tr>\n",
       "      <th>04000US47</th>\n",
       "      <td>Tennessee</td>\n",
       "      <td>6600299.0</td>\n",
       "      <td>3214689.0</td>\n",
       "      <td>3385610.0</td>\n",
       "      <td>0.512948</td>\n",
       "    </tr>\n",
       "    <tr>\n",
       "      <th>04000US42</th>\n",
       "      <td>Pennsylvania</td>\n",
       "      <td>12802503.0</td>\n",
       "      <td>6262246.0</td>\n",
       "      <td>6540257.0</td>\n",
       "      <td>0.510858</td>\n",
       "    </tr>\n",
       "    <tr>\n",
       "      <th>04000US39</th>\n",
       "      <td>Ohio</td>\n",
       "      <td>11613423.0</td>\n",
       "      <td>5683951.0</td>\n",
       "      <td>5929472.0</td>\n",
       "      <td>0.510571</td>\n",
       "    </tr>\n",
       "    <tr>\n",
       "      <th>04000US29</th>\n",
       "      <td>Missouri</td>\n",
       "      <td>6083672.0</td>\n",
       "      <td>2983645.0</td>\n",
       "      <td>3100027.0</td>\n",
       "      <td>0.509565</td>\n",
       "    </tr>\n",
       "    <tr>\n",
       "      <th>04000US17</th>\n",
       "      <td>Illinois</td>\n",
       "      <td>12859995.0</td>\n",
       "      <td>6310435.0</td>\n",
       "      <td>6549560.0</td>\n",
       "      <td>0.509297</td>\n",
       "    </tr>\n",
       "  </tbody>\n",
       "</table>\n",
       "</div>"
      ],
      "text/plain": [
       "                   name       Total       Male     Female  pct_female\n",
       "04000US47     Tennessee   6600299.0  3214689.0  3385610.0    0.512948\n",
       "04000US42  Pennsylvania  12802503.0  6262246.0  6540257.0    0.510858\n",
       "04000US39          Ohio  11613423.0  5683951.0  5929472.0    0.510571\n",
       "04000US29      Missouri   6083672.0  2983645.0  3100027.0    0.509565\n",
       "04000US17      Illinois  12859995.0  6310435.0  6549560.0    0.509297"
      ]
     },
     "execution_count": 3,
     "metadata": {},
     "output_type": "execute_result"
    }
   ],
   "source": [
    "df = get_dataframe(tables='B01001',geoids='040|02000US2',column_names=True,level=1)\n",
    "df['pct_female'] = df['Female'] / df['Total']\n",
    "df.sort_values('pct_female',ascending=False).head(5)"
   ]
  },
  {
   "cell_type": "markdown",
   "metadata": {},
   "source": [
    "## Top 5 Tennessee Counties by % Male Population"
   ]
  },
  {
   "cell_type": "code",
   "execution_count": 4,
   "metadata": {},
   "outputs": [
    {
     "data": {
      "text/html": [
       "<div>\n",
       "<table border=\"1\" class=\"dataframe\">\n",
       "  <thead>\n",
       "    <tr style=\"text-align: right;\">\n",
       "      <th></th>\n",
       "      <th>name</th>\n",
       "      <th>Total</th>\n",
       "      <th>Male</th>\n",
       "      <th>Female</th>\n",
       "      <th>pct_male</th>\n",
       "    </tr>\n",
       "  </thead>\n",
       "  <tbody>\n",
       "    <tr>\n",
       "      <th>05000US47095</th>\n",
       "      <td>Lake County, TN</td>\n",
       "      <td>7687.0</td>\n",
       "      <td>4937.0</td>\n",
       "      <td>2750.0</td>\n",
       "      <td>0.642253</td>\n",
       "    </tr>\n",
       "    <tr>\n",
       "      <th>05000US47007</th>\n",
       "      <td>Bledsoe County, TN</td>\n",
       "      <td>13686.0</td>\n",
       "      <td>7677.0</td>\n",
       "      <td>6009.0</td>\n",
       "      <td>0.560938</td>\n",
       "    </tr>\n",
       "    <tr>\n",
       "      <th>05000US47129</th>\n",
       "      <td>Morgan County, TN</td>\n",
       "      <td>21794.0</td>\n",
       "      <td>12150.0</td>\n",
       "      <td>9644.0</td>\n",
       "      <td>0.557493</td>\n",
       "    </tr>\n",
       "    <tr>\n",
       "      <th>05000US47181</th>\n",
       "      <td>Wayne County, TN</td>\n",
       "      <td>16897.0</td>\n",
       "      <td>9295.0</td>\n",
       "      <td>7602.0</td>\n",
       "      <td>0.550098</td>\n",
       "    </tr>\n",
       "    <tr>\n",
       "      <th>05000US47069</th>\n",
       "      <td>Hardeman County, TN</td>\n",
       "      <td>26253.0</td>\n",
       "      <td>14297.0</td>\n",
       "      <td>11956.0</td>\n",
       "      <td>0.544585</td>\n",
       "    </tr>\n",
       "  </tbody>\n",
       "</table>\n",
       "</div>"
      ],
      "text/plain": [
       "                             name    Total     Male   Female  pct_male\n",
       "05000US47095      Lake County, TN   7687.0   4937.0   2750.0  0.642253\n",
       "05000US47007   Bledsoe County, TN  13686.0   7677.0   6009.0  0.560938\n",
       "05000US47129    Morgan County, TN  21794.0  12150.0   9644.0  0.557493\n",
       "05000US47181     Wayne County, TN  16897.0   9295.0   7602.0  0.550098\n",
       "05000US47069  Hardeman County, TN  26253.0  14297.0  11956.0  0.544585"
      ]
     },
     "execution_count": 4,
     "metadata": {},
     "output_type": "execute_result"
    }
   ],
   "source": [
    "df = get_dataframe(tables='B01001',geoids='050|04000US47',column_names=True,level=1)\n",
    "df['pct_male'] = df['Male'] / df['Total']\n",
    "df.sort_values('pct_male',ascending=False).head(5)"
   ]
  }
 ],
 "metadata": {
  "kernelspec": {
   "display_name": "Python 3",
   "language": "python",
   "name": "python3"
  },
  "language_info": {
   "codemirror_mode": {
    "name": "ipython",
    "version": 3
   },
   "file_extension": ".py",
   "mimetype": "text/x-python",
   "name": "python",
   "nbconvert_exporter": "python",
   "pygments_lexer": "ipython3",
   "version": "3.4.3"
  }
 },
 "nbformat": 4,
 "nbformat_minor": 1
}
