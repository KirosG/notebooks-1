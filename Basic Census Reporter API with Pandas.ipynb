{
 "cells": [
  {
   "cell_type": "markdown",
   "metadata": {},
   "source": [
    "# Basic Census Reporter API with Pandas"
   ]
  },
  {
   "cell_type": "code",
   "execution_count": 1,
   "metadata": {
    "collapsed": true
   },
   "outputs": [],
   "source": [
    "from censusreporter_api import *"
   ]
  },
  {
   "cell_type": "code",
   "execution_count": 2,
   "metadata": {
    "collapsed": false
   },
   "outputs": [],
   "source": [
    "df = get_dataframe(column_names=True,level=1)"
   ]
  },
  {
   "cell_type": "markdown",
   "metadata": {},
   "source": [
    "# Top 5 States by Total Population"
   ]
  },
  {
   "cell_type": "code",
   "execution_count": 3,
   "metadata": {
    "collapsed": false
   },
   "outputs": [
    {
     "data": {
      "text/html": [
       "<div style=\"max-height:1000px;max-width:1500px;overflow:auto;\">\n",
       "<table border=\"1\" class=\"dataframe\">\n",
       "  <thead>\n",
       "    <tr style=\"text-align: right;\">\n",
       "      <th></th>\n",
       "      <th>name</th>\n",
       "      <th>Total</th>\n",
       "      <th>Male</th>\n",
       "      <th>Female</th>\n",
       "    </tr>\n",
       "  </thead>\n",
       "  <tbody>\n",
       "    <tr>\n",
       "      <th>04000US06</th>\n",
       "      <td>California</td>\n",
       "      <td>38332521</td>\n",
       "      <td>19072246</td>\n",
       "      <td>19260275</td>\n",
       "    </tr>\n",
       "    <tr>\n",
       "      <th>04000US48</th>\n",
       "      <td>Texas</td>\n",
       "      <td>26448193</td>\n",
       "      <td>13145494</td>\n",
       "      <td>13302699</td>\n",
       "    </tr>\n",
       "    <tr>\n",
       "      <th>04000US36</th>\n",
       "      <td>New York</td>\n",
       "      <td>19651127</td>\n",
       "      <td>9536179</td>\n",
       "      <td>10114948</td>\n",
       "    </tr>\n",
       "    <tr>\n",
       "      <th>04000US12</th>\n",
       "      <td>Florida</td>\n",
       "      <td>19552860</td>\n",
       "      <td>9565609</td>\n",
       "      <td>9987251</td>\n",
       "    </tr>\n",
       "    <tr>\n",
       "      <th>04000US17</th>\n",
       "      <td>Illinois</td>\n",
       "      <td>12882135</td>\n",
       "      <td>6326778</td>\n",
       "      <td>6555357</td>\n",
       "    </tr>\n",
       "  </tbody>\n",
       "</table>\n",
       "</div>"
      ],
      "text/plain": [
       "                 name     Total      Male    Female\n",
       "04000US06  California  38332521  19072246  19260275\n",
       "04000US48       Texas  26448193  13145494  13302699\n",
       "04000US36    New York  19651127   9536179  10114948\n",
       "04000US12     Florida  19552860   9565609   9987251\n",
       "04000US17    Illinois  12882135   6326778   6555357"
      ]
     },
     "execution_count": 3,
     "metadata": {},
     "output_type": "execute_result"
    }
   ],
   "source": [
    "df.sort('Total', ascending=False).head(5)"
   ]
  },
  {
   "cell_type": "markdown",
   "metadata": {},
   "source": [
    "## Top 5 States by Female Population"
   ]
  },
  {
   "cell_type": "code",
   "execution_count": 4,
   "metadata": {
    "collapsed": false
   },
   "outputs": [
    {
     "data": {
      "text/html": [
       "<div style=\"max-height:1000px;max-width:1500px;overflow:auto;\">\n",
       "<table border=\"1\" class=\"dataframe\">\n",
       "  <thead>\n",
       "    <tr style=\"text-align: right;\">\n",
       "      <th></th>\n",
       "      <th>name</th>\n",
       "      <th>Total</th>\n",
       "      <th>Male</th>\n",
       "      <th>Female</th>\n",
       "    </tr>\n",
       "  </thead>\n",
       "  <tbody>\n",
       "    <tr>\n",
       "      <th>04000US06</th>\n",
       "      <td>California</td>\n",
       "      <td>38332521</td>\n",
       "      <td>19072246</td>\n",
       "      <td>19260275</td>\n",
       "    </tr>\n",
       "    <tr>\n",
       "      <th>04000US48</th>\n",
       "      <td>Texas</td>\n",
       "      <td>26448193</td>\n",
       "      <td>13145494</td>\n",
       "      <td>13302699</td>\n",
       "    </tr>\n",
       "    <tr>\n",
       "      <th>04000US36</th>\n",
       "      <td>New York</td>\n",
       "      <td>19651127</td>\n",
       "      <td>9536179</td>\n",
       "      <td>10114948</td>\n",
       "    </tr>\n",
       "    <tr>\n",
       "      <th>04000US12</th>\n",
       "      <td>Florida</td>\n",
       "      <td>19552860</td>\n",
       "      <td>9565609</td>\n",
       "      <td>9987251</td>\n",
       "    </tr>\n",
       "    <tr>\n",
       "      <th>04000US17</th>\n",
       "      <td>Illinois</td>\n",
       "      <td>12882135</td>\n",
       "      <td>6326778</td>\n",
       "      <td>6555357</td>\n",
       "    </tr>\n",
       "  </tbody>\n",
       "</table>\n",
       "</div>"
      ],
      "text/plain": [
       "                 name     Total      Male    Female\n",
       "04000US06  California  38332521  19072246  19260275\n",
       "04000US48       Texas  26448193  13145494  13302699\n",
       "04000US36    New York  19651127   9536179  10114948\n",
       "04000US12     Florida  19552860   9565609   9987251\n",
       "04000US17    Illinois  12882135   6326778   6555357"
      ]
     },
     "execution_count": 4,
     "metadata": {},
     "output_type": "execute_result"
    }
   ],
   "source": [
    "df.sort('Female',ascending=False).head(5)"
   ]
  },
  {
   "cell_type": "markdown",
   "metadata": {},
   "source": [
    "## Top 5 States by Male Population"
   ]
  },
  {
   "cell_type": "code",
   "execution_count": 5,
   "metadata": {
    "collapsed": false
   },
   "outputs": [
    {
     "data": {
      "text/html": [
       "<div style=\"max-height:1000px;max-width:1500px;overflow:auto;\">\n",
       "<table border=\"1\" class=\"dataframe\">\n",
       "  <thead>\n",
       "    <tr style=\"text-align: right;\">\n",
       "      <th></th>\n",
       "      <th>name</th>\n",
       "      <th>Total</th>\n",
       "      <th>Male</th>\n",
       "      <th>Female</th>\n",
       "    </tr>\n",
       "  </thead>\n",
       "  <tbody>\n",
       "    <tr>\n",
       "      <th>04000US06</th>\n",
       "      <td>California</td>\n",
       "      <td>38332521</td>\n",
       "      <td>19072246</td>\n",
       "      <td>19260275</td>\n",
       "    </tr>\n",
       "    <tr>\n",
       "      <th>04000US48</th>\n",
       "      <td>Texas</td>\n",
       "      <td>26448193</td>\n",
       "      <td>13145494</td>\n",
       "      <td>13302699</td>\n",
       "    </tr>\n",
       "    <tr>\n",
       "      <th>04000US12</th>\n",
       "      <td>Florida</td>\n",
       "      <td>19552860</td>\n",
       "      <td>9565609</td>\n",
       "      <td>9987251</td>\n",
       "    </tr>\n",
       "    <tr>\n",
       "      <th>04000US36</th>\n",
       "      <td>New York</td>\n",
       "      <td>19651127</td>\n",
       "      <td>9536179</td>\n",
       "      <td>10114948</td>\n",
       "    </tr>\n",
       "    <tr>\n",
       "      <th>04000US17</th>\n",
       "      <td>Illinois</td>\n",
       "      <td>12882135</td>\n",
       "      <td>6326778</td>\n",
       "      <td>6555357</td>\n",
       "    </tr>\n",
       "  </tbody>\n",
       "</table>\n",
       "</div>"
      ],
      "text/plain": [
       "                 name     Total      Male    Female\n",
       "04000US06  California  38332521  19072246  19260275\n",
       "04000US48       Texas  26448193  13145494  13302699\n",
       "04000US12     Florida  19552860   9565609   9987251\n",
       "04000US36    New York  19651127   9536179  10114948\n",
       "04000US17    Illinois  12882135   6326778   6555357"
      ]
     },
     "execution_count": 5,
     "metadata": {},
     "output_type": "execute_result"
    }
   ],
   "source": [
    "df.sort('Male',ascending=False).head(5)"
   ]
  }
 ],
 "metadata": {
  "kernelspec": {
   "display_name": "Python 2",
   "language": "python",
   "name": "python2"
  },
  "language_info": {
   "codemirror_mode": {
    "name": "ipython",
    "version": 2
   },
   "file_extension": ".py",
   "mimetype": "text/x-python",
   "name": "python",
   "nbconvert_exporter": "python",
   "pygments_lexer": "ipython2",
   "version": "2.7.9"
  }
 },
 "nbformat": 4,
 "nbformat_minor": 0
}
